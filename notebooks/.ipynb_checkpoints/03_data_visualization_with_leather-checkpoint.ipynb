{
 "cells": [
  {
   "cell_type": "code",
   "execution_count": 89,
   "id": "dd12008e",
   "metadata": {},
   "outputs": [],
   "source": [
    "from datetime import date\n",
    "import warnings\n",
    "import leather\n",
    "\n",
    "warnings.filterwarnings(action='once')"
   ]
  },
  {
   "cell_type": "code",
   "execution_count": 1,
   "id": "ef70790c",
   "metadata": {},
   "outputs": [],
   "source": [
    "#pip install leather"
   ]
  },
  {
   "cell_type": "markdown",
   "id": "57cec6bf",
   "metadata": {},
   "source": [
    "### Getting data"
   ]
  },
  {
   "cell_type": "code",
   "execution_count": 36,
   "id": "5a3ff7ec",
   "metadata": {},
   "outputs": [],
   "source": [
    "data1 = [(1.5, 2), (2, 3), (4.5, 6), (7.5, 4)]\n",
    "data2 = [(2, 3), (4, 5), (5, 6), (7, 5)]"
   ]
  },
  {
   "cell_type": "markdown",
   "id": "888542f2",
   "metadata": {},
   "source": [
    "### Basic dot chart"
   ]
  },
  {
   "cell_type": "code",
   "execution_count": 16,
   "id": "db386d03",
   "metadata": {},
   "outputs": [],
   "source": [
    "chart = leather.Chart('Simple pairs of x-y')"
   ]
  },
  {
   "cell_type": "code",
   "execution_count": 18,
   "id": "8c1e97cd",
   "metadata": {},
   "outputs": [],
   "source": [
    "chart.add_dots(data1)"
   ]
  },
  {
   "cell_type": "code",
   "execution_count": 19,
   "id": "7a4e3e3c",
   "metadata": {},
   "outputs": [
    {
     "data": {
      "image/svg+xml": [
       "<svg xmlns=\"http://www.w3.org/2000/svg\" width=\"800\" height=\"600\" version=\"1.1\"><g><rect x=\"0\" y=\"0\" width=\"800\" height=\"600\" fill=\"#f9f9f9\"/><g transform=\"translate(40 40)\"><g transform=\"translate(16 0)\"><text x=\"0\" y=\"0\" fill=\"#333\" font-family=\"Monaco\" font-size=\"16\">Simple pairs of x-y</text></g><g transform=\"translate(0 20)\"><g transform=\"translate(16 0)\"><g class=\"axis bottom\"><g class=\"tick\"><line x1=\"234.6666666666666666666666666\" y1=\"0\" x2=\"234.6666666666666666666666666\" y2=\"482.0\" stroke=\"#eee\" stroke-width=\"1\"/><text x=\"234.6666666666666666666666666\" y=\"486.0\" dy=\"1em\" fill=\"#9c9c9c\" text-anchor=\"middle\" font-family=\"Monaco\">2.5</text></g><g class=\"tick\"><line x1=\"469.3333333333333333333333334\" y1=\"0\" x2=\"469.3333333333333333333333334\" y2=\"482.0\" stroke=\"#eee\" stroke-width=\"1\"/><text x=\"469.3333333333333333333333334\" y=\"486.0\" dy=\"1em\" fill=\"#9c9c9c\" text-anchor=\"middle\" font-family=\"Monaco\">5</text></g><g class=\"tick\"><line x1=\"704\" y1=\"0\" x2=\"704\" y2=\"482.0\" stroke=\"#eee\" stroke-width=\"1\"/><text x=\"704\" y=\"486.0\" dy=\"1em\" fill=\"#9c9c9c\" text-anchor=\"middle\" font-family=\"Monaco\">7.5</text></g><g class=\"tick\"><line x1=\"0\" y1=\"0\" x2=\"0\" y2=\"482.0\" stroke=\"#a8a8a8\" stroke-width=\"1\"/><text x=\"0\" y=\"486.0\" dy=\"1em\" fill=\"#9c9c9c\" text-anchor=\"middle\" font-family=\"Monaco\">0</text></g></g><g class=\"axis left\"><g class=\"tick\"><line x1=\"-4\" y1=\"478\" x2=\"704.0\" y2=\"478\" stroke=\"#eee\" stroke-width=\"1\"/><text x=\"-8\" y=\"478\" dy=\"0.32em\" fill=\"#9c9c9c\" text-anchor=\"end\" font-family=\"Monaco\">2</text></g><g class=\"tick\"><line x1=\"-4\" y1=\"358.50\" x2=\"704.0\" y2=\"358.50\" stroke=\"#eee\" stroke-width=\"1\"/><text x=\"-8\" y=\"358.50\" dy=\"0.32em\" fill=\"#9c9c9c\" text-anchor=\"end\" font-family=\"Monaco\">3</text></g><g class=\"tick\"><line x1=\"-4\" y1=\"239.0\" x2=\"704.0\" y2=\"239.0\" stroke=\"#eee\" stroke-width=\"1\"/><text x=\"-8\" y=\"239.0\" dy=\"0.32em\" fill=\"#9c9c9c\" text-anchor=\"end\" font-family=\"Monaco\">4</text></g><g class=\"tick\"><line x1=\"-4\" y1=\"119.50\" x2=\"704.0\" y2=\"119.50\" stroke=\"#eee\" stroke-width=\"1\"/><text x=\"-8\" y=\"119.50\" dy=\"0.32em\" fill=\"#9c9c9c\" text-anchor=\"end\" font-family=\"Monaco\">5</text></g><g class=\"tick\"><line x1=\"-4\" y1=\"0\" x2=\"704.0\" y2=\"0\" stroke=\"#eee\" stroke-width=\"1\"/><text x=\"-8\" y=\"0\" dy=\"0.32em\" fill=\"#9c9c9c\" text-anchor=\"end\" font-family=\"Monaco\">6</text></g></g><g><g class=\"series dots\"><circle cx=\"140.8\" cy=\"478\" r=\"3\" fill=\"#e41a1c\"/><circle cx=\"187.7333333333333333333333334\" cy=\"358.50\" r=\"3\" fill=\"#e41a1c\"/><circle cx=\"422.4\" cy=\"0\" r=\"3\" fill=\"#e41a1c\"/><circle cx=\"704\" cy=\"239.0\" r=\"3\" fill=\"#e41a1c\"/></g></g></g></g></g></g></svg>"
      ],
      "text/plain": [
       "<IPython.core.display.SVG object>"
      ]
     },
     "execution_count": 19,
     "metadata": {},
     "output_type": "execute_result"
    }
   ],
   "source": [
    "chart.to_svg()"
   ]
  },
  {
   "cell_type": "markdown",
   "id": "ff016a26",
   "metadata": {},
   "source": [
    "#### Customize it"
   ]
  },
  {
   "cell_type": "code",
   "execution_count": 20,
   "id": "e801ec8b",
   "metadata": {},
   "outputs": [],
   "source": [
    "chart = leather.Chart('Customised Dots')"
   ]
  },
  {
   "cell_type": "code",
   "execution_count": 21,
   "id": "35d6df7f",
   "metadata": {},
   "outputs": [],
   "source": [
    "chart.add_dots(data1, fill_color='#00ff00', radius=10)"
   ]
  },
  {
   "cell_type": "code",
   "execution_count": 22,
   "id": "02cf5a12",
   "metadata": {},
   "outputs": [
    {
     "data": {
      "image/svg+xml": [
       "<svg xmlns=\"http://www.w3.org/2000/svg\" width=\"800\" height=\"600\" version=\"1.1\"><g><rect x=\"0\" y=\"0\" width=\"800\" height=\"600\" fill=\"#f9f9f9\"/><g transform=\"translate(40 40)\"><g transform=\"translate(16 0)\"><text x=\"0\" y=\"0\" fill=\"#333\" font-family=\"Monaco\" font-size=\"16\">Customised Dots</text></g><g transform=\"translate(0 20)\"><g transform=\"translate(16 0)\"><g class=\"axis bottom\"><g class=\"tick\"><line x1=\"234.6666666666666666666666666\" y1=\"0\" x2=\"234.6666666666666666666666666\" y2=\"482.0\" stroke=\"#eee\" stroke-width=\"1\"/><text x=\"234.6666666666666666666666666\" y=\"486.0\" dy=\"1em\" fill=\"#9c9c9c\" text-anchor=\"middle\" font-family=\"Monaco\">2.5</text></g><g class=\"tick\"><line x1=\"469.3333333333333333333333334\" y1=\"0\" x2=\"469.3333333333333333333333334\" y2=\"482.0\" stroke=\"#eee\" stroke-width=\"1\"/><text x=\"469.3333333333333333333333334\" y=\"486.0\" dy=\"1em\" fill=\"#9c9c9c\" text-anchor=\"middle\" font-family=\"Monaco\">5</text></g><g class=\"tick\"><line x1=\"704\" y1=\"0\" x2=\"704\" y2=\"482.0\" stroke=\"#eee\" stroke-width=\"1\"/><text x=\"704\" y=\"486.0\" dy=\"1em\" fill=\"#9c9c9c\" text-anchor=\"middle\" font-family=\"Monaco\">7.5</text></g><g class=\"tick\"><line x1=\"0\" y1=\"0\" x2=\"0\" y2=\"482.0\" stroke=\"#a8a8a8\" stroke-width=\"1\"/><text x=\"0\" y=\"486.0\" dy=\"1em\" fill=\"#9c9c9c\" text-anchor=\"middle\" font-family=\"Monaco\">0</text></g></g><g class=\"axis left\"><g class=\"tick\"><line x1=\"-4\" y1=\"478\" x2=\"704.0\" y2=\"478\" stroke=\"#eee\" stroke-width=\"1\"/><text x=\"-8\" y=\"478\" dy=\"0.32em\" fill=\"#9c9c9c\" text-anchor=\"end\" font-family=\"Monaco\">2</text></g><g class=\"tick\"><line x1=\"-4\" y1=\"358.50\" x2=\"704.0\" y2=\"358.50\" stroke=\"#eee\" stroke-width=\"1\"/><text x=\"-8\" y=\"358.50\" dy=\"0.32em\" fill=\"#9c9c9c\" text-anchor=\"end\" font-family=\"Monaco\">3</text></g><g class=\"tick\"><line x1=\"-4\" y1=\"239.0\" x2=\"704.0\" y2=\"239.0\" stroke=\"#eee\" stroke-width=\"1\"/><text x=\"-8\" y=\"239.0\" dy=\"0.32em\" fill=\"#9c9c9c\" text-anchor=\"end\" font-family=\"Monaco\">4</text></g><g class=\"tick\"><line x1=\"-4\" y1=\"119.50\" x2=\"704.0\" y2=\"119.50\" stroke=\"#eee\" stroke-width=\"1\"/><text x=\"-8\" y=\"119.50\" dy=\"0.32em\" fill=\"#9c9c9c\" text-anchor=\"end\" font-family=\"Monaco\">5</text></g><g class=\"tick\"><line x1=\"-4\" y1=\"0\" x2=\"704.0\" y2=\"0\" stroke=\"#eee\" stroke-width=\"1\"/><text x=\"-8\" y=\"0\" dy=\"0.32em\" fill=\"#9c9c9c\" text-anchor=\"end\" font-family=\"Monaco\">6</text></g></g><g><g class=\"series dots\"><circle cx=\"140.8\" cy=\"478\" r=\"10\" fill=\"#00ff00\"/><circle cx=\"187.7333333333333333333333334\" cy=\"358.50\" r=\"10\" fill=\"#00ff00\"/><circle cx=\"422.4\" cy=\"0\" r=\"10\" fill=\"#00ff00\"/><circle cx=\"704\" cy=\"239.0\" r=\"10\" fill=\"#00ff00\"/></g></g></g></g></g></g></svg>"
      ],
      "text/plain": [
       "<IPython.core.display.SVG object>"
      ]
     },
     "execution_count": 22,
     "metadata": {},
     "output_type": "execute_result"
    }
   ],
   "source": [
    "chart.to_svg()"
   ]
  },
  {
   "cell_type": "markdown",
   "id": "4dd36768",
   "metadata": {},
   "source": [
    "#### Add more points"
   ]
  },
  {
   "cell_type": "code",
   "execution_count": 47,
   "id": "471b7db5",
   "metadata": {},
   "outputs": [],
   "source": [
    "chart = leather.Chart('Visualizing Multiple Dots')"
   ]
  },
  {
   "cell_type": "code",
   "execution_count": 48,
   "id": "7c1b76fe",
   "metadata": {},
   "outputs": [],
   "source": [
    "chart.add_dots(data1, fill_color='#00ff00', radius=10)\n",
    "chart.add_dots(data2, fill_color='#ff0000', radius=10)"
   ]
  },
  {
   "cell_type": "code",
   "execution_count": 49,
   "id": "fd8789d7",
   "metadata": {},
   "outputs": [
    {
     "data": {
      "image/svg+xml": [
       "<svg xmlns=\"http://www.w3.org/2000/svg\" width=\"800\" height=\"600\" version=\"1.1\"><g><rect x=\"0\" y=\"0\" width=\"800\" height=\"600\" fill=\"#f9f9f9\"/><g transform=\"translate(40 40)\"><g transform=\"translate(16 0)\"><text x=\"0\" y=\"0\" fill=\"#333\" font-family=\"Monaco\" font-size=\"16\">Visualizing Multiple Dots</text><g transform=\"translate(0 20)\"><g transform=\"translate(0 0)\"><rect x=\"0\" y=\"-10\" width=\"10\" height=\"10\" fill=\"#00ff00\"/><text x=\"14\" y=\"0\" fill=\"#666\" font-family=\"Monaco\" font-size=\"14\">Unnamed series</text></g><g transform=\"translate(158 0)\"><rect x=\"0\" y=\"-10\" width=\"10\" height=\"10\" fill=\"#ff0000\"/><text x=\"14\" y=\"0\" fill=\"#666\" font-family=\"Monaco\" font-size=\"14\">Unnamed series</text></g></g></g><g transform=\"translate(0 38)\"><g transform=\"translate(16 0)\"><g class=\"axis bottom\"><g class=\"tick\"><line x1=\"234.6666666666666666666666666\" y1=\"0\" x2=\"234.6666666666666666666666666\" y2=\"464.0\" stroke=\"#eee\" stroke-width=\"1\"/><text x=\"234.6666666666666666666666666\" y=\"468.0\" dy=\"1em\" fill=\"#9c9c9c\" text-anchor=\"middle\" font-family=\"Monaco\">2.5</text></g><g class=\"tick\"><line x1=\"469.3333333333333333333333334\" y1=\"0\" x2=\"469.3333333333333333333333334\" y2=\"464.0\" stroke=\"#eee\" stroke-width=\"1\"/><text x=\"469.3333333333333333333333334\" y=\"468.0\" dy=\"1em\" fill=\"#9c9c9c\" text-anchor=\"middle\" font-family=\"Monaco\">5</text></g><g class=\"tick\"><line x1=\"704\" y1=\"0\" x2=\"704\" y2=\"464.0\" stroke=\"#eee\" stroke-width=\"1\"/><text x=\"704\" y=\"468.0\" dy=\"1em\" fill=\"#9c9c9c\" text-anchor=\"middle\" font-family=\"Monaco\">7.5</text></g><g class=\"tick\"><line x1=\"0\" y1=\"0\" x2=\"0\" y2=\"464.0\" stroke=\"#a8a8a8\" stroke-width=\"1\"/><text x=\"0\" y=\"468.0\" dy=\"1em\" fill=\"#9c9c9c\" text-anchor=\"middle\" font-family=\"Monaco\">0</text></g></g><g class=\"axis left\"><g class=\"tick\"><line x1=\"-4\" y1=\"460\" x2=\"704.0\" y2=\"460\" stroke=\"#eee\" stroke-width=\"1\"/><text x=\"-8\" y=\"460\" dy=\"0.32em\" fill=\"#9c9c9c\" text-anchor=\"end\" font-family=\"Monaco\">2</text></g><g class=\"tick\"><line x1=\"-4\" y1=\"345.00\" x2=\"704.0\" y2=\"345.00\" stroke=\"#eee\" stroke-width=\"1\"/><text x=\"-8\" y=\"345.00\" dy=\"0.32em\" fill=\"#9c9c9c\" text-anchor=\"end\" font-family=\"Monaco\">3</text></g><g class=\"tick\"><line x1=\"-4\" y1=\"230.0\" x2=\"704.0\" y2=\"230.0\" stroke=\"#eee\" stroke-width=\"1\"/><text x=\"-8\" y=\"230.0\" dy=\"0.32em\" fill=\"#9c9c9c\" text-anchor=\"end\" font-family=\"Monaco\">4</text></g><g class=\"tick\"><line x1=\"-4\" y1=\"115.00\" x2=\"704.0\" y2=\"115.00\" stroke=\"#eee\" stroke-width=\"1\"/><text x=\"-8\" y=\"115.00\" dy=\"0.32em\" fill=\"#9c9c9c\" text-anchor=\"end\" font-family=\"Monaco\">5</text></g><g class=\"tick\"><line x1=\"-4\" y1=\"0\" x2=\"704.0\" y2=\"0\" stroke=\"#eee\" stroke-width=\"1\"/><text x=\"-8\" y=\"0\" dy=\"0.32em\" fill=\"#9c9c9c\" text-anchor=\"end\" font-family=\"Monaco\">6</text></g></g><g><g class=\"series dots\"><circle cx=\"140.8\" cy=\"460\" r=\"10\" fill=\"#00ff00\"/><circle cx=\"187.7333333333333333333333334\" cy=\"345.00\" r=\"10\" fill=\"#00ff00\"/><circle cx=\"422.4\" cy=\"0\" r=\"10\" fill=\"#00ff00\"/><circle cx=\"704\" cy=\"230.0\" r=\"10\" fill=\"#00ff00\"/></g><g class=\"series dots\"><circle cx=\"187.7333333333333333333333334\" cy=\"345.00\" r=\"10\" fill=\"#ff0000\"/><circle cx=\"375.4666666666666666666666666\" cy=\"115.00\" r=\"10\" fill=\"#ff0000\"/><circle cx=\"469.3333333333333333333333334\" cy=\"0\" r=\"10\" fill=\"#ff0000\"/><circle cx=\"657.0666666666666666666666666\" cy=\"115.00\" r=\"10\" fill=\"#ff0000\"/></g></g></g></g></g></g></svg>"
      ],
      "text/plain": [
       "<IPython.core.display.SVG object>"
      ]
     },
     "execution_count": 49,
     "metadata": {},
     "output_type": "execute_result"
    }
   ],
   "source": [
    "chart.to_svg()"
   ]
  },
  {
   "cell_type": "markdown",
   "id": "2da1f257",
   "metadata": {},
   "source": [
    "#### Save it to a file"
   ]
  },
  {
   "cell_type": "code",
   "execution_count": 23,
   "id": "0172d159",
   "metadata": {},
   "outputs": [],
   "source": [
    "chart.to_svg('out/customized-dot.svg')"
   ]
  },
  {
   "cell_type": "markdown",
   "id": "1cc04672",
   "metadata": {},
   "source": [
    "### Basic line graph"
   ]
  },
  {
   "cell_type": "code",
   "execution_count": 29,
   "id": "e0dd6171",
   "metadata": {},
   "outputs": [],
   "source": [
    "chart = leather.Chart('Visualizing lines')"
   ]
  },
  {
   "cell_type": "code",
   "execution_count": 30,
   "id": "27464e73",
   "metadata": {},
   "outputs": [],
   "source": [
    "chart.add_line(data1)"
   ]
  },
  {
   "cell_type": "code",
   "execution_count": 31,
   "id": "0d7f5b6e",
   "metadata": {},
   "outputs": [
    {
     "data": {
      "image/svg+xml": [
       "<svg xmlns=\"http://www.w3.org/2000/svg\" width=\"800\" height=\"600\" version=\"1.1\"><g><rect x=\"0\" y=\"0\" width=\"800\" height=\"600\" fill=\"#f9f9f9\"/><g transform=\"translate(40 40)\"><g transform=\"translate(16 0)\"><text x=\"0\" y=\"0\" fill=\"#333\" font-family=\"Monaco\" font-size=\"16\">Visualizing lines</text></g><g transform=\"translate(0 20)\"><g transform=\"translate(16 0)\"><g class=\"axis bottom\"><g class=\"tick\"><line x1=\"234.6666666666666666666666666\" y1=\"0\" x2=\"234.6666666666666666666666666\" y2=\"482.0\" stroke=\"#eee\" stroke-width=\"1\"/><text x=\"234.6666666666666666666666666\" y=\"486.0\" dy=\"1em\" fill=\"#9c9c9c\" text-anchor=\"middle\" font-family=\"Monaco\">2.5</text></g><g class=\"tick\"><line x1=\"469.3333333333333333333333334\" y1=\"0\" x2=\"469.3333333333333333333333334\" y2=\"482.0\" stroke=\"#eee\" stroke-width=\"1\"/><text x=\"469.3333333333333333333333334\" y=\"486.0\" dy=\"1em\" fill=\"#9c9c9c\" text-anchor=\"middle\" font-family=\"Monaco\">5</text></g><g class=\"tick\"><line x1=\"704\" y1=\"0\" x2=\"704\" y2=\"482.0\" stroke=\"#eee\" stroke-width=\"1\"/><text x=\"704\" y=\"486.0\" dy=\"1em\" fill=\"#9c9c9c\" text-anchor=\"middle\" font-family=\"Monaco\">7.5</text></g><g class=\"tick\"><line x1=\"0\" y1=\"0\" x2=\"0\" y2=\"482.0\" stroke=\"#a8a8a8\" stroke-width=\"1\"/><text x=\"0\" y=\"486.0\" dy=\"1em\" fill=\"#9c9c9c\" text-anchor=\"middle\" font-family=\"Monaco\">0</text></g></g><g class=\"axis left\"><g class=\"tick\"><line x1=\"-4\" y1=\"478\" x2=\"704.0\" y2=\"478\" stroke=\"#eee\" stroke-width=\"1\"/><text x=\"-8\" y=\"478\" dy=\"0.32em\" fill=\"#9c9c9c\" text-anchor=\"end\" font-family=\"Monaco\">2</text></g><g class=\"tick\"><line x1=\"-4\" y1=\"358.50\" x2=\"704.0\" y2=\"358.50\" stroke=\"#eee\" stroke-width=\"1\"/><text x=\"-8\" y=\"358.50\" dy=\"0.32em\" fill=\"#9c9c9c\" text-anchor=\"end\" font-family=\"Monaco\">3</text></g><g class=\"tick\"><line x1=\"-4\" y1=\"239.0\" x2=\"704.0\" y2=\"239.0\" stroke=\"#eee\" stroke-width=\"1\"/><text x=\"-8\" y=\"239.0\" dy=\"0.32em\" fill=\"#9c9c9c\" text-anchor=\"end\" font-family=\"Monaco\">4</text></g><g class=\"tick\"><line x1=\"-4\" y1=\"119.50\" x2=\"704.0\" y2=\"119.50\" stroke=\"#eee\" stroke-width=\"1\"/><text x=\"-8\" y=\"119.50\" dy=\"0.32em\" fill=\"#9c9c9c\" text-anchor=\"end\" font-family=\"Monaco\">5</text></g><g class=\"tick\"><line x1=\"-4\" y1=\"0\" x2=\"704.0\" y2=\"0\" stroke=\"#eee\" stroke-width=\"1\"/><text x=\"-8\" y=\"0\" dy=\"0.32em\" fill=\"#9c9c9c\" text-anchor=\"end\" font-family=\"Monaco\">6</text></g></g><g><g class=\"series lines\"><path stroke=\"#e41a1c\" fill=\"none\" stroke-width=\"2\" d=\"M 140.8 478 L 187.7333333333333333333333334 358.50 L 422.4 0 L 704 239.0\"/></g></g></g></g></g></g></svg>"
      ],
      "text/plain": [
       "<IPython.core.display.SVG object>"
      ]
     },
     "execution_count": 31,
     "metadata": {},
     "output_type": "execute_result"
    }
   ],
   "source": [
    "chart.to_svg()"
   ]
  },
  {
   "cell_type": "markdown",
   "id": "52d3e68e",
   "metadata": {},
   "source": [
    "#### Customizing it"
   ]
  },
  {
   "cell_type": "code",
   "execution_count": 33,
   "id": "4cd86dab",
   "metadata": {},
   "outputs": [],
   "source": [
    "chart = leather.Chart('Customized Line')"
   ]
  },
  {
   "cell_type": "code",
   "execution_count": 34,
   "id": "f0b22287",
   "metadata": {},
   "outputs": [],
   "source": [
    "chart.add_line(data1,stroke_color='#0000ff', width=3)"
   ]
  },
  {
   "cell_type": "code",
   "execution_count": 35,
   "id": "87d3cd8a",
   "metadata": {},
   "outputs": [
    {
     "data": {
      "image/svg+xml": [
       "<svg xmlns=\"http://www.w3.org/2000/svg\" width=\"800\" height=\"600\" version=\"1.1\"><g><rect x=\"0\" y=\"0\" width=\"800\" height=\"600\" fill=\"#f9f9f9\"/><g transform=\"translate(40 40)\"><g transform=\"translate(16 0)\"><text x=\"0\" y=\"0\" fill=\"#333\" font-family=\"Monaco\" font-size=\"16\">Customized Line</text></g><g transform=\"translate(0 20)\"><g transform=\"translate(16 0)\"><g class=\"axis bottom\"><g class=\"tick\"><line x1=\"234.6666666666666666666666666\" y1=\"0\" x2=\"234.6666666666666666666666666\" y2=\"482.0\" stroke=\"#eee\" stroke-width=\"1\"/><text x=\"234.6666666666666666666666666\" y=\"486.0\" dy=\"1em\" fill=\"#9c9c9c\" text-anchor=\"middle\" font-family=\"Monaco\">2.5</text></g><g class=\"tick\"><line x1=\"469.3333333333333333333333334\" y1=\"0\" x2=\"469.3333333333333333333333334\" y2=\"482.0\" stroke=\"#eee\" stroke-width=\"1\"/><text x=\"469.3333333333333333333333334\" y=\"486.0\" dy=\"1em\" fill=\"#9c9c9c\" text-anchor=\"middle\" font-family=\"Monaco\">5</text></g><g class=\"tick\"><line x1=\"704\" y1=\"0\" x2=\"704\" y2=\"482.0\" stroke=\"#eee\" stroke-width=\"1\"/><text x=\"704\" y=\"486.0\" dy=\"1em\" fill=\"#9c9c9c\" text-anchor=\"middle\" font-family=\"Monaco\">7.5</text></g><g class=\"tick\"><line x1=\"0\" y1=\"0\" x2=\"0\" y2=\"482.0\" stroke=\"#a8a8a8\" stroke-width=\"1\"/><text x=\"0\" y=\"486.0\" dy=\"1em\" fill=\"#9c9c9c\" text-anchor=\"middle\" font-family=\"Monaco\">0</text></g></g><g class=\"axis left\"><g class=\"tick\"><line x1=\"-4\" y1=\"478\" x2=\"704.0\" y2=\"478\" stroke=\"#eee\" stroke-width=\"1\"/><text x=\"-8\" y=\"478\" dy=\"0.32em\" fill=\"#9c9c9c\" text-anchor=\"end\" font-family=\"Monaco\">2</text></g><g class=\"tick\"><line x1=\"-4\" y1=\"358.50\" x2=\"704.0\" y2=\"358.50\" stroke=\"#eee\" stroke-width=\"1\"/><text x=\"-8\" y=\"358.50\" dy=\"0.32em\" fill=\"#9c9c9c\" text-anchor=\"end\" font-family=\"Monaco\">3</text></g><g class=\"tick\"><line x1=\"-4\" y1=\"239.0\" x2=\"704.0\" y2=\"239.0\" stroke=\"#eee\" stroke-width=\"1\"/><text x=\"-8\" y=\"239.0\" dy=\"0.32em\" fill=\"#9c9c9c\" text-anchor=\"end\" font-family=\"Monaco\">4</text></g><g class=\"tick\"><line x1=\"-4\" y1=\"119.50\" x2=\"704.0\" y2=\"119.50\" stroke=\"#eee\" stroke-width=\"1\"/><text x=\"-8\" y=\"119.50\" dy=\"0.32em\" fill=\"#9c9c9c\" text-anchor=\"end\" font-family=\"Monaco\">5</text></g><g class=\"tick\"><line x1=\"-4\" y1=\"0\" x2=\"704.0\" y2=\"0\" stroke=\"#eee\" stroke-width=\"1\"/><text x=\"-8\" y=\"0\" dy=\"0.32em\" fill=\"#9c9c9c\" text-anchor=\"end\" font-family=\"Monaco\">6</text></g></g><g><g class=\"series lines\"><path stroke=\"#0000ff\" fill=\"none\" stroke-width=\"3\" d=\"M 140.8 478 L 187.7333333333333333333333334 358.50 L 422.4 0 L 704 239.0\"/></g></g></g></g></g></g></svg>"
      ],
      "text/plain": [
       "<IPython.core.display.SVG object>"
      ]
     },
     "execution_count": 35,
     "metadata": {},
     "output_type": "execute_result"
    }
   ],
   "source": [
    "chart.to_svg()"
   ]
  },
  {
   "cell_type": "markdown",
   "id": "7021b68e",
   "metadata": {},
   "source": [
    "#### Add more lines"
   ]
  },
  {
   "cell_type": "code",
   "execution_count": 57,
   "id": "5813b035",
   "metadata": {},
   "outputs": [],
   "source": [
    "chart = leather.Chart('Visualizing Multiple Lines')"
   ]
  },
  {
   "cell_type": "code",
   "execution_count": 58,
   "id": "da51df39",
   "metadata": {},
   "outputs": [],
   "source": [
    "chart.add_line(data1)\n",
    "chart.add_line(data2)"
   ]
  },
  {
   "cell_type": "code",
   "execution_count": 59,
   "id": "d35b00f5",
   "metadata": {},
   "outputs": [
    {
     "data": {
      "image/svg+xml": [
       "<svg xmlns=\"http://www.w3.org/2000/svg\" width=\"800\" height=\"600\" version=\"1.1\"><g><rect x=\"0\" y=\"0\" width=\"800\" height=\"600\" fill=\"#f9f9f9\"/><g transform=\"translate(40 40)\"><g transform=\"translate(16 0)\"><text x=\"0\" y=\"0\" fill=\"#333\" font-family=\"Monaco\" font-size=\"16\">Visualizing Multiple Lines</text><g transform=\"translate(0 20)\"><g transform=\"translate(0 0)\"><rect x=\"0\" y=\"-10\" width=\"10\" height=\"10\" fill=\"#e41a1c\"/><text x=\"14\" y=\"0\" fill=\"#666\" font-family=\"Monaco\" font-size=\"14\">Unnamed series</text></g><g transform=\"translate(158 0)\"><rect x=\"0\" y=\"-10\" width=\"10\" height=\"10\" fill=\"#377eb8\"/><text x=\"14\" y=\"0\" fill=\"#666\" font-family=\"Monaco\" font-size=\"14\">Unnamed series</text></g></g></g><g transform=\"translate(0 38)\"><g transform=\"translate(16 0)\"><g class=\"axis bottom\"><g class=\"tick\"><line x1=\"234.6666666666666666666666666\" y1=\"0\" x2=\"234.6666666666666666666666666\" y2=\"464.0\" stroke=\"#eee\" stroke-width=\"1\"/><text x=\"234.6666666666666666666666666\" y=\"468.0\" dy=\"1em\" fill=\"#9c9c9c\" text-anchor=\"middle\" font-family=\"Monaco\">2.5</text></g><g class=\"tick\"><line x1=\"469.3333333333333333333333334\" y1=\"0\" x2=\"469.3333333333333333333333334\" y2=\"464.0\" stroke=\"#eee\" stroke-width=\"1\"/><text x=\"469.3333333333333333333333334\" y=\"468.0\" dy=\"1em\" fill=\"#9c9c9c\" text-anchor=\"middle\" font-family=\"Monaco\">5</text></g><g class=\"tick\"><line x1=\"704\" y1=\"0\" x2=\"704\" y2=\"464.0\" stroke=\"#eee\" stroke-width=\"1\"/><text x=\"704\" y=\"468.0\" dy=\"1em\" fill=\"#9c9c9c\" text-anchor=\"middle\" font-family=\"Monaco\">7.5</text></g><g class=\"tick\"><line x1=\"0\" y1=\"0\" x2=\"0\" y2=\"464.0\" stroke=\"#a8a8a8\" stroke-width=\"1\"/><text x=\"0\" y=\"468.0\" dy=\"1em\" fill=\"#9c9c9c\" text-anchor=\"middle\" font-family=\"Monaco\">0</text></g></g><g class=\"axis left\"><g class=\"tick\"><line x1=\"-4\" y1=\"460\" x2=\"704.0\" y2=\"460\" stroke=\"#eee\" stroke-width=\"1\"/><text x=\"-8\" y=\"460\" dy=\"0.32em\" fill=\"#9c9c9c\" text-anchor=\"end\" font-family=\"Monaco\">2</text></g><g class=\"tick\"><line x1=\"-4\" y1=\"345.00\" x2=\"704.0\" y2=\"345.00\" stroke=\"#eee\" stroke-width=\"1\"/><text x=\"-8\" y=\"345.00\" dy=\"0.32em\" fill=\"#9c9c9c\" text-anchor=\"end\" font-family=\"Monaco\">3</text></g><g class=\"tick\"><line x1=\"-4\" y1=\"230.0\" x2=\"704.0\" y2=\"230.0\" stroke=\"#eee\" stroke-width=\"1\"/><text x=\"-8\" y=\"230.0\" dy=\"0.32em\" fill=\"#9c9c9c\" text-anchor=\"end\" font-family=\"Monaco\">4</text></g><g class=\"tick\"><line x1=\"-4\" y1=\"115.00\" x2=\"704.0\" y2=\"115.00\" stroke=\"#eee\" stroke-width=\"1\"/><text x=\"-8\" y=\"115.00\" dy=\"0.32em\" fill=\"#9c9c9c\" text-anchor=\"end\" font-family=\"Monaco\">5</text></g><g class=\"tick\"><line x1=\"-4\" y1=\"0\" x2=\"704.0\" y2=\"0\" stroke=\"#eee\" stroke-width=\"1\"/><text x=\"-8\" y=\"0\" dy=\"0.32em\" fill=\"#9c9c9c\" text-anchor=\"end\" font-family=\"Monaco\">6</text></g></g><g><g class=\"series lines\"><path stroke=\"#e41a1c\" fill=\"none\" stroke-width=\"2\" d=\"M 140.8 460 L 187.7333333333333333333333334 345.00 L 422.4 0 L 704 230.0\"/></g><g class=\"series lines\"><path stroke=\"#377eb8\" fill=\"none\" stroke-width=\"2\" d=\"M 187.7333333333333333333333334 345.00 L 375.4666666666666666666666666 115.00 L 469.3333333333333333333333334 0 L 657.0666666666666666666666666 115.00\"/></g></g></g></g></g></g></svg>"
      ],
      "text/plain": [
       "<IPython.core.display.SVG object>"
      ]
     },
     "execution_count": 59,
     "metadata": {},
     "output_type": "execute_result"
    }
   ],
   "source": [
    "chart.to_svg()"
   ]
  },
  {
   "cell_type": "markdown",
   "id": "ddd1b152",
   "metadata": {},
   "source": [
    "### Visualizing bars"
   ]
  },
  {
   "cell_type": "code",
   "execution_count": 72,
   "id": "64c96bc6",
   "metadata": {},
   "outputs": [],
   "source": [
    "data3 = [[1, 'A'], [2, 'B'], [3, 'C'], [4, 'D']]\n",
    "data4 = [['A', 1], ['B', 2], ['C', 3], ['D', 4]]"
   ]
  },
  {
   "cell_type": "code",
   "execution_count": 61,
   "id": "da5bf40e",
   "metadata": {},
   "outputs": [],
   "source": [
    "chart = leather.Chart('Visualizing Bars')"
   ]
  },
  {
   "cell_type": "code",
   "execution_count": 63,
   "id": "b6bd23d9",
   "metadata": {},
   "outputs": [],
   "source": [
    "chart.add_bars(data3)"
   ]
  },
  {
   "cell_type": "code",
   "execution_count": 64,
   "id": "f5a0b231",
   "metadata": {},
   "outputs": [
    {
     "data": {
      "image/svg+xml": [
       "<svg xmlns=\"http://www.w3.org/2000/svg\" width=\"800\" height=\"600\" version=\"1.1\"><g><rect x=\"0\" y=\"0\" width=\"800\" height=\"600\" fill=\"#f9f9f9\"/><g transform=\"translate(40 40)\"><g transform=\"translate(16 0)\"><text x=\"0\" y=\"0\" fill=\"#333\" font-family=\"Monaco\" font-size=\"16\">Visualizing Bars</text></g><g transform=\"translate(0 20)\"><g transform=\"translate(16 0)\"><g class=\"axis bottom\"><g class=\"tick\"><line x1=\"176.00\" y1=\"0\" x2=\"176.00\" y2=\"482.0\" stroke=\"#eee\" stroke-width=\"1\"/><text x=\"176.00\" y=\"486.0\" dy=\"1em\" fill=\"#9c9c9c\" text-anchor=\"middle\" font-family=\"Monaco\">1</text></g><g class=\"tick\"><line x1=\"352.0\" y1=\"0\" x2=\"352.0\" y2=\"482.0\" stroke=\"#eee\" stroke-width=\"1\"/><text x=\"352.0\" y=\"486.0\" dy=\"1em\" fill=\"#9c9c9c\" text-anchor=\"middle\" font-family=\"Monaco\">2</text></g><g class=\"tick\"><line x1=\"528.00\" y1=\"0\" x2=\"528.00\" y2=\"482.0\" stroke=\"#eee\" stroke-width=\"1\"/><text x=\"528.00\" y=\"486.0\" dy=\"1em\" fill=\"#9c9c9c\" text-anchor=\"middle\" font-family=\"Monaco\">3</text></g><g class=\"tick\"><line x1=\"704\" y1=\"0\" x2=\"704\" y2=\"482.0\" stroke=\"#eee\" stroke-width=\"1\"/><text x=\"704\" y=\"486.0\" dy=\"1em\" fill=\"#9c9c9c\" text-anchor=\"middle\" font-family=\"Monaco\">4</text></g><g class=\"tick\"><line x1=\"0\" y1=\"0\" x2=\"0\" y2=\"482.0\" stroke=\"#a8a8a8\" stroke-width=\"1\"/><text x=\"0\" y=\"486.0\" dy=\"1em\" fill=\"#9c9c9c\" text-anchor=\"middle\" font-family=\"Monaco\">0</text></g></g><g class=\"axis left\"><g class=\"tick\"><line x1=\"-4\" y1=\"418.25\" x2=\"704.0\" y2=\"418.25\" stroke=\"#eee\" stroke-width=\"1\"/><text x=\"-8\" y=\"418.25\" dy=\"0.32em\" fill=\"#9c9c9c\" text-anchor=\"end\" font-family=\"Monaco\">D</text></g><g class=\"tick\"><line x1=\"-4\" y1=\"298.75\" x2=\"704.0\" y2=\"298.75\" stroke=\"#eee\" stroke-width=\"1\"/><text x=\"-8\" y=\"298.75\" dy=\"0.32em\" fill=\"#9c9c9c\" text-anchor=\"end\" font-family=\"Monaco\">C</text></g><g class=\"tick\"><line x1=\"-4\" y1=\"179.25\" x2=\"704.0\" y2=\"179.25\" stroke=\"#eee\" stroke-width=\"1\"/><text x=\"-8\" y=\"179.25\" dy=\"0.32em\" fill=\"#9c9c9c\" text-anchor=\"end\" font-family=\"Monaco\">B</text></g><g class=\"tick\"><line x1=\"-4\" y1=\"59.75\" x2=\"704.0\" y2=\"59.75\" stroke=\"#eee\" stroke-width=\"1\"/><text x=\"-8\" y=\"59.75\" dy=\"0.32em\" fill=\"#9c9c9c\" text-anchor=\"end\" font-family=\"Monaco\">A</text></g></g><g><g class=\"series bars\"><rect x=\"0\" y=\"364.475\" width=\"704\" height=\"107.550\" fill=\"#e41a1c\"/><rect x=\"0\" y=\"244.975\" width=\"528.00\" height=\"107.550\" fill=\"#e41a1c\"/><rect x=\"0\" y=\"125.475\" width=\"352.0\" height=\"107.550\" fill=\"#e41a1c\"/><rect x=\"0\" y=\"5.975\" width=\"176.00\" height=\"107.550\" fill=\"#e41a1c\"/></g></g></g></g></g></g></svg>"
      ],
      "text/plain": [
       "<IPython.core.display.SVG object>"
      ]
     },
     "execution_count": 64,
     "metadata": {},
     "output_type": "execute_result"
    }
   ],
   "source": [
    "chart.to_svg()"
   ]
  },
  {
   "cell_type": "markdown",
   "id": "87014840",
   "metadata": {},
   "source": [
    "#### Customizing it"
   ]
  },
  {
   "cell_type": "code",
   "execution_count": 65,
   "id": "02efabaf",
   "metadata": {},
   "outputs": [],
   "source": [
    "chart = leather.Chart('Customized Bars')"
   ]
  },
  {
   "cell_type": "code",
   "execution_count": 66,
   "id": "a113e579",
   "metadata": {},
   "outputs": [
    {
     "name": "stderr",
     "output_type": "stream",
     "text": [
      "/home/melox/miniconda3/envs/env_book_pratical_python_data_visualization/lib/python3.8/site-packages/ipykernel/ipkernel.py:283: DeprecationWarning: `should_run_async` will not call `transform_cell` automatically in the future. Please pass the result to `transformed_cell` argument and any exception that happen during thetransform in `preprocessing_exc_tuple` in IPython 7.17 and above.\n"
     ]
    }
   ],
   "source": [
    "chart.add_bars(data3, fill_color='#aa33dd')"
   ]
  },
  {
   "cell_type": "code",
   "execution_count": 67,
   "id": "a026392b",
   "metadata": {},
   "outputs": [
    {
     "data": {
      "image/svg+xml": [
       "<svg xmlns=\"http://www.w3.org/2000/svg\" width=\"800\" height=\"600\" version=\"1.1\"><g><rect x=\"0\" y=\"0\" width=\"800\" height=\"600\" fill=\"#f9f9f9\"/><g transform=\"translate(40 40)\"><g transform=\"translate(16 0)\"><text x=\"0\" y=\"0\" fill=\"#333\" font-family=\"Monaco\" font-size=\"16\">Customized Bars</text></g><g transform=\"translate(0 20)\"><g transform=\"translate(16 0)\"><g class=\"axis bottom\"><g class=\"tick\"><line x1=\"176.00\" y1=\"0\" x2=\"176.00\" y2=\"482.0\" stroke=\"#eee\" stroke-width=\"1\"/><text x=\"176.00\" y=\"486.0\" dy=\"1em\" fill=\"#9c9c9c\" text-anchor=\"middle\" font-family=\"Monaco\">1</text></g><g class=\"tick\"><line x1=\"352.0\" y1=\"0\" x2=\"352.0\" y2=\"482.0\" stroke=\"#eee\" stroke-width=\"1\"/><text x=\"352.0\" y=\"486.0\" dy=\"1em\" fill=\"#9c9c9c\" text-anchor=\"middle\" font-family=\"Monaco\">2</text></g><g class=\"tick\"><line x1=\"528.00\" y1=\"0\" x2=\"528.00\" y2=\"482.0\" stroke=\"#eee\" stroke-width=\"1\"/><text x=\"528.00\" y=\"486.0\" dy=\"1em\" fill=\"#9c9c9c\" text-anchor=\"middle\" font-family=\"Monaco\">3</text></g><g class=\"tick\"><line x1=\"704\" y1=\"0\" x2=\"704\" y2=\"482.0\" stroke=\"#eee\" stroke-width=\"1\"/><text x=\"704\" y=\"486.0\" dy=\"1em\" fill=\"#9c9c9c\" text-anchor=\"middle\" font-family=\"Monaco\">4</text></g><g class=\"tick\"><line x1=\"0\" y1=\"0\" x2=\"0\" y2=\"482.0\" stroke=\"#a8a8a8\" stroke-width=\"1\"/><text x=\"0\" y=\"486.0\" dy=\"1em\" fill=\"#9c9c9c\" text-anchor=\"middle\" font-family=\"Monaco\">0</text></g></g><g class=\"axis left\"><g class=\"tick\"><line x1=\"-4\" y1=\"418.25\" x2=\"704.0\" y2=\"418.25\" stroke=\"#eee\" stroke-width=\"1\"/><text x=\"-8\" y=\"418.25\" dy=\"0.32em\" fill=\"#9c9c9c\" text-anchor=\"end\" font-family=\"Monaco\">D</text></g><g class=\"tick\"><line x1=\"-4\" y1=\"298.75\" x2=\"704.0\" y2=\"298.75\" stroke=\"#eee\" stroke-width=\"1\"/><text x=\"-8\" y=\"298.75\" dy=\"0.32em\" fill=\"#9c9c9c\" text-anchor=\"end\" font-family=\"Monaco\">C</text></g><g class=\"tick\"><line x1=\"-4\" y1=\"179.25\" x2=\"704.0\" y2=\"179.25\" stroke=\"#eee\" stroke-width=\"1\"/><text x=\"-8\" y=\"179.25\" dy=\"0.32em\" fill=\"#9c9c9c\" text-anchor=\"end\" font-family=\"Monaco\">B</text></g><g class=\"tick\"><line x1=\"-4\" y1=\"59.75\" x2=\"704.0\" y2=\"59.75\" stroke=\"#eee\" stroke-width=\"1\"/><text x=\"-8\" y=\"59.75\" dy=\"0.32em\" fill=\"#9c9c9c\" text-anchor=\"end\" font-family=\"Monaco\">A</text></g></g><g><g class=\"series bars\"><rect x=\"0\" y=\"364.475\" width=\"704\" height=\"107.550\" fill=\"#aa33dd\"/><rect x=\"0\" y=\"244.975\" width=\"528.00\" height=\"107.550\" fill=\"#aa33dd\"/><rect x=\"0\" y=\"125.475\" width=\"352.0\" height=\"107.550\" fill=\"#aa33dd\"/><rect x=\"0\" y=\"5.975\" width=\"176.00\" height=\"107.550\" fill=\"#aa33dd\"/></g></g></g></g></g></g></svg>"
      ],
      "text/plain": [
       "<IPython.core.display.SVG object>"
      ]
     },
     "execution_count": 67,
     "metadata": {},
     "output_type": "execute_result"
    }
   ],
   "source": [
    "chart.to_svg()"
   ]
  },
  {
   "cell_type": "markdown",
   "id": "bc897f70",
   "metadata": {},
   "source": [
    "#### Show it vertically (columns)"
   ]
  },
  {
   "cell_type": "code",
   "execution_count": 74,
   "id": "f0e603df",
   "metadata": {},
   "outputs": [],
   "source": [
    "chart = leather.Chart('See it vertically')"
   ]
  },
  {
   "cell_type": "code",
   "execution_count": 75,
   "id": "1b30ca03",
   "metadata": {},
   "outputs": [],
   "source": [
    "chart.add_columns(data4)"
   ]
  },
  {
   "cell_type": "code",
   "execution_count": 76,
   "id": "e700a063",
   "metadata": {},
   "outputs": [
    {
     "data": {
      "image/svg+xml": [
       "<svg xmlns=\"http://www.w3.org/2000/svg\" width=\"800\" height=\"600\" version=\"1.1\"><g><rect x=\"0\" y=\"0\" width=\"800\" height=\"600\" fill=\"#f9f9f9\"/><g transform=\"translate(40 40)\"><g transform=\"translate(16 0)\"><text x=\"0\" y=\"0\" fill=\"#333\" font-family=\"Monaco\" font-size=\"16\">See it vertically</text></g><g transform=\"translate(0 20)\"><g transform=\"translate(16 0)\"><g class=\"axis bottom\"><g class=\"tick\"><line x1=\"88\" y1=\"0\" x2=\"88\" y2=\"482.0\" stroke=\"#eee\" stroke-width=\"1\"/><text x=\"88\" y=\"486.0\" dy=\"1em\" fill=\"#9c9c9c\" text-anchor=\"middle\" font-family=\"Monaco\">A</text></g><g class=\"tick\"><line x1=\"264\" y1=\"0\" x2=\"264\" y2=\"482.0\" stroke=\"#eee\" stroke-width=\"1\"/><text x=\"264\" y=\"486.0\" dy=\"1em\" fill=\"#9c9c9c\" text-anchor=\"middle\" font-family=\"Monaco\">B</text></g><g class=\"tick\"><line x1=\"440\" y1=\"0\" x2=\"440\" y2=\"482.0\" stroke=\"#eee\" stroke-width=\"1\"/><text x=\"440\" y=\"486.0\" dy=\"1em\" fill=\"#9c9c9c\" text-anchor=\"middle\" font-family=\"Monaco\">C</text></g><g class=\"tick\"><line x1=\"616\" y1=\"0\" x2=\"616\" y2=\"482.0\" stroke=\"#eee\" stroke-width=\"1\"/><text x=\"616\" y=\"486.0\" dy=\"1em\" fill=\"#9c9c9c\" text-anchor=\"middle\" font-family=\"Monaco\">D</text></g></g><g class=\"axis left\"><g class=\"tick\"><line x1=\"-4\" y1=\"358.50\" x2=\"704.0\" y2=\"358.50\" stroke=\"#eee\" stroke-width=\"1\"/><text x=\"-8\" y=\"358.50\" dy=\"0.32em\" fill=\"#9c9c9c\" text-anchor=\"end\" font-family=\"Monaco\">1</text></g><g class=\"tick\"><line x1=\"-4\" y1=\"239.0\" x2=\"704.0\" y2=\"239.0\" stroke=\"#eee\" stroke-width=\"1\"/><text x=\"-8\" y=\"239.0\" dy=\"0.32em\" fill=\"#9c9c9c\" text-anchor=\"end\" font-family=\"Monaco\">2</text></g><g class=\"tick\"><line x1=\"-4\" y1=\"119.50\" x2=\"704.0\" y2=\"119.50\" stroke=\"#eee\" stroke-width=\"1\"/><text x=\"-8\" y=\"119.50\" dy=\"0.32em\" fill=\"#9c9c9c\" text-anchor=\"end\" font-family=\"Monaco\">3</text></g><g class=\"tick\"><line x1=\"-4\" y1=\"0\" x2=\"704.0\" y2=\"0\" stroke=\"#eee\" stroke-width=\"1\"/><text x=\"-8\" y=\"0\" dy=\"0.32em\" fill=\"#9c9c9c\" text-anchor=\"end\" font-family=\"Monaco\">4</text></g><g class=\"tick\"><line x1=\"-4\" y1=\"478\" x2=\"704.0\" y2=\"478\" stroke=\"#a8a8a8\" stroke-width=\"1\"/><text x=\"-8\" y=\"478\" dy=\"0.32em\" fill=\"#9c9c9c\" text-anchor=\"end\" font-family=\"Monaco\">0</text></g></g><g><g class=\"series columns\"><rect x=\"8.8\" y=\"358.50\" width=\"158.4\" height=\"119.50\" fill=\"#e41a1c\"/><rect x=\"184.8\" y=\"239.0\" width=\"158.4\" height=\"239.0\" fill=\"#e41a1c\"/><rect x=\"360.8\" y=\"119.50\" width=\"158.4\" height=\"358.50\" fill=\"#e41a1c\"/><rect x=\"536.8\" y=\"0\" width=\"158.4\" height=\"478\" fill=\"#e41a1c\"/></g></g></g></g></g></g></svg>"
      ],
      "text/plain": [
       "<IPython.core.display.SVG object>"
      ]
     },
     "execution_count": 76,
     "metadata": {},
     "output_type": "execute_result"
    }
   ],
   "source": [
    "chart.to_svg()"
   ]
  },
  {
   "cell_type": "markdown",
   "id": "644e1a67",
   "metadata": {},
   "source": [
    "### Scales"
   ]
  },
  {
   "cell_type": "markdown",
   "id": "3631a2da",
   "metadata": {},
   "source": [
    "#### Ordinary"
   ]
  },
  {
   "cell_type": "code",
   "execution_count": 77,
   "id": "9332eafd",
   "metadata": {},
   "outputs": [],
   "source": [
    "chart = leather.Chart('Ordinary scale')"
   ]
  },
  {
   "cell_type": "code",
   "execution_count": 78,
   "id": "49324371",
   "metadata": {},
   "outputs": [],
   "source": [
    "chart.add_columns(data4)"
   ]
  },
  {
   "cell_type": "code",
   "execution_count": 79,
   "id": "dafe3c7f",
   "metadata": {},
   "outputs": [
    {
     "data": {
      "image/svg+xml": [
       "<svg xmlns=\"http://www.w3.org/2000/svg\" width=\"800\" height=\"600\" version=\"1.1\"><g><rect x=\"0\" y=\"0\" width=\"800\" height=\"600\" fill=\"#f9f9f9\"/><g transform=\"translate(40 40)\"><g transform=\"translate(16 0)\"><text x=\"0\" y=\"0\" fill=\"#333\" font-family=\"Monaco\" font-size=\"16\">Ordinary scale</text></g><g transform=\"translate(0 20)\"><g transform=\"translate(16 0)\"><g class=\"axis bottom\"><g class=\"tick\"><line x1=\"88\" y1=\"0\" x2=\"88\" y2=\"482.0\" stroke=\"#eee\" stroke-width=\"1\"/><text x=\"88\" y=\"486.0\" dy=\"1em\" fill=\"#9c9c9c\" text-anchor=\"middle\" font-family=\"Monaco\">A</text></g><g class=\"tick\"><line x1=\"264\" y1=\"0\" x2=\"264\" y2=\"482.0\" stroke=\"#eee\" stroke-width=\"1\"/><text x=\"264\" y=\"486.0\" dy=\"1em\" fill=\"#9c9c9c\" text-anchor=\"middle\" font-family=\"Monaco\">B</text></g><g class=\"tick\"><line x1=\"440\" y1=\"0\" x2=\"440\" y2=\"482.0\" stroke=\"#eee\" stroke-width=\"1\"/><text x=\"440\" y=\"486.0\" dy=\"1em\" fill=\"#9c9c9c\" text-anchor=\"middle\" font-family=\"Monaco\">C</text></g><g class=\"tick\"><line x1=\"616\" y1=\"0\" x2=\"616\" y2=\"482.0\" stroke=\"#eee\" stroke-width=\"1\"/><text x=\"616\" y=\"486.0\" dy=\"1em\" fill=\"#9c9c9c\" text-anchor=\"middle\" font-family=\"Monaco\">D</text></g></g><g class=\"axis left\"><g class=\"tick\"><line x1=\"-4\" y1=\"358.50\" x2=\"704.0\" y2=\"358.50\" stroke=\"#eee\" stroke-width=\"1\"/><text x=\"-8\" y=\"358.50\" dy=\"0.32em\" fill=\"#9c9c9c\" text-anchor=\"end\" font-family=\"Monaco\">1</text></g><g class=\"tick\"><line x1=\"-4\" y1=\"239.0\" x2=\"704.0\" y2=\"239.0\" stroke=\"#eee\" stroke-width=\"1\"/><text x=\"-8\" y=\"239.0\" dy=\"0.32em\" fill=\"#9c9c9c\" text-anchor=\"end\" font-family=\"Monaco\">2</text></g><g class=\"tick\"><line x1=\"-4\" y1=\"119.50\" x2=\"704.0\" y2=\"119.50\" stroke=\"#eee\" stroke-width=\"1\"/><text x=\"-8\" y=\"119.50\" dy=\"0.32em\" fill=\"#9c9c9c\" text-anchor=\"end\" font-family=\"Monaco\">3</text></g><g class=\"tick\"><line x1=\"-4\" y1=\"0\" x2=\"704.0\" y2=\"0\" stroke=\"#eee\" stroke-width=\"1\"/><text x=\"-8\" y=\"0\" dy=\"0.32em\" fill=\"#9c9c9c\" text-anchor=\"end\" font-family=\"Monaco\">4</text></g><g class=\"tick\"><line x1=\"-4\" y1=\"478\" x2=\"704.0\" y2=\"478\" stroke=\"#a8a8a8\" stroke-width=\"1\"/><text x=\"-8\" y=\"478\" dy=\"0.32em\" fill=\"#9c9c9c\" text-anchor=\"end\" font-family=\"Monaco\">0</text></g></g><g><g class=\"series columns\"><rect x=\"8.8\" y=\"358.50\" width=\"158.4\" height=\"119.50\" fill=\"#e41a1c\"/><rect x=\"184.8\" y=\"239.0\" width=\"158.4\" height=\"239.0\" fill=\"#e41a1c\"/><rect x=\"360.8\" y=\"119.50\" width=\"158.4\" height=\"358.50\" fill=\"#e41a1c\"/><rect x=\"536.8\" y=\"0\" width=\"158.4\" height=\"478\" fill=\"#e41a1c\"/></g></g></g></g></g></g></svg>"
      ],
      "text/plain": [
       "<IPython.core.display.SVG object>"
      ]
     },
     "execution_count": 79,
     "metadata": {},
     "output_type": "execute_result"
    }
   ],
   "source": [
    "chart.to_svg()"
   ]
  },
  {
   "cell_type": "markdown",
   "id": "e025c21e",
   "metadata": {},
   "source": [
    "#### Linear scale"
   ]
  },
  {
   "cell_type": "code",
   "execution_count": 80,
   "id": "cd1f7629",
   "metadata": {},
   "outputs": [],
   "source": [
    "chart = leather.Chart('Linear scale')"
   ]
  },
  {
   "cell_type": "code",
   "execution_count": 82,
   "id": "36f53b46",
   "metadata": {},
   "outputs": [],
   "source": [
    "chart.add_x_scale(1, 8)\n",
    "chart.add_y_scale(1, 7)"
   ]
  },
  {
   "cell_type": "code",
   "execution_count": 84,
   "id": "b461f53a",
   "metadata": {},
   "outputs": [],
   "source": [
    "chart.add_line(data2)"
   ]
  },
  {
   "cell_type": "code",
   "execution_count": 85,
   "id": "897d2846",
   "metadata": {},
   "outputs": [
    {
     "data": {
      "image/svg+xml": [
       "<svg xmlns=\"http://www.w3.org/2000/svg\" width=\"800\" height=\"600\" version=\"1.1\"><g><rect x=\"0\" y=\"0\" width=\"800\" height=\"600\" fill=\"#f9f9f9\"/><g transform=\"translate(40 40)\"><g transform=\"translate(32 0)\"><text x=\"0\" y=\"0\" fill=\"#333\" font-family=\"Monaco\" font-size=\"16\">Linear scale</text></g><g transform=\"translate(0 20)\"><g transform=\"translate(32 0)\"><g class=\"axis bottom\"><g class=\"tick\"><line x1=\"172.00\" y1=\"0\" x2=\"172.00\" y2=\"482.0\" stroke=\"#eee\" stroke-width=\"1\"/><text x=\"172.00\" y=\"486.0\" dy=\"1em\" fill=\"#9c9c9c\" text-anchor=\"middle\" font-family=\"Monaco\">2</text></g><g class=\"tick\"><line x1=\"344.0\" y1=\"0\" x2=\"344.0\" y2=\"482.0\" stroke=\"#eee\" stroke-width=\"1\"/><text x=\"344.0\" y=\"486.0\" dy=\"1em\" fill=\"#9c9c9c\" text-anchor=\"middle\" font-family=\"Monaco\">4</text></g><g class=\"tick\"><line x1=\"516.00\" y1=\"0\" x2=\"516.00\" y2=\"482.0\" stroke=\"#eee\" stroke-width=\"1\"/><text x=\"516.00\" y=\"486.0\" dy=\"1em\" fill=\"#9c9c9c\" text-anchor=\"middle\" font-family=\"Monaco\">6</text></g><g class=\"tick\"><line x1=\"688\" y1=\"0\" x2=\"688\" y2=\"482.0\" stroke=\"#eee\" stroke-width=\"1\"/><text x=\"688\" y=\"486.0\" dy=\"1em\" fill=\"#9c9c9c\" text-anchor=\"middle\" font-family=\"Monaco\">8</text></g><g class=\"tick\"><line x1=\"0\" y1=\"0\" x2=\"0\" y2=\"482.0\" stroke=\"#a8a8a8\" stroke-width=\"1\"/><text x=\"0\" y=\"486.0\" dy=\"1em\" fill=\"#9c9c9c\" text-anchor=\"middle\" font-family=\"Monaco\">0</text></g></g><g class=\"axis left\"><g class=\"tick\"><line x1=\"-4\" y1=\"318.6666666666666666666666667\" x2=\"688.0\" y2=\"318.6666666666666666666666667\" stroke=\"#eee\" stroke-width=\"1\"/><text x=\"-8\" y=\"318.6666666666666666666666667\" dy=\"0.32em\" fill=\"#9c9c9c\" text-anchor=\"end\" font-family=\"Monaco\">2.5</text></g><g class=\"tick\"><line x1=\"-4\" y1=\"159.3333333333333333333333333\" x2=\"688.0\" y2=\"159.3333333333333333333333333\" stroke=\"#eee\" stroke-width=\"1\"/><text x=\"-8\" y=\"159.3333333333333333333333333\" dy=\"0.32em\" fill=\"#9c9c9c\" text-anchor=\"end\" font-family=\"Monaco\">5</text></g><g class=\"tick\"><line x1=\"-4\" y1=\"0\" x2=\"688.0\" y2=\"0\" stroke=\"#eee\" stroke-width=\"1\"/><text x=\"-8\" y=\"0\" dy=\"0.32em\" fill=\"#9c9c9c\" text-anchor=\"end\" font-family=\"Monaco\">7.5</text></g><g class=\"tick\"><line x1=\"-4\" y1=\"478\" x2=\"688.0\" y2=\"478\" stroke=\"#a8a8a8\" stroke-width=\"1\"/><text x=\"-8\" y=\"478\" dy=\"0.32em\" fill=\"#9c9c9c\" text-anchor=\"end\" font-family=\"Monaco\">0</text></g></g><g><g class=\"series lines\"><path stroke=\"#e41a1c\" fill=\"none\" stroke-width=\"2\" d=\"M 172.00 286.8 L 344.0 159.3333333333333333333333333 L 430.000 95.6 L 602.000 159.3333333333333333333333333\"/></g></g></g></g></g></g></svg>"
      ],
      "text/plain": [
       "<IPython.core.display.SVG object>"
      ]
     },
     "execution_count": 85,
     "metadata": {},
     "output_type": "execute_result"
    }
   ],
   "source": [
    "chart.to_svg()"
   ]
  },
  {
   "cell_type": "markdown",
   "id": "e86428b2",
   "metadata": {},
   "source": [
    "#### Temporal scale"
   ]
  },
  {
   "cell_type": "code",
   "execution_count": 91,
   "id": "4806dabb",
   "metadata": {},
   "outputs": [],
   "source": [
    "data5 = [\n",
    " (date(2020, 1, 1), 4),\n",
    " (date(2020, 3, 1), 6),\n",
    " (date(2020, 6, 1), 2),\n",
    " (date(2020, 9, 1), 1)]"
   ]
  },
  {
   "cell_type": "code",
   "execution_count": 101,
   "id": "94250f69",
   "metadata": {},
   "outputs": [],
   "source": [
    "chart = leather.Chart('Temporal chart')"
   ]
  },
  {
   "cell_type": "code",
   "execution_count": 102,
   "id": "a190c22a",
   "metadata": {},
   "outputs": [],
   "source": [
    "chart.add_x_scale(date(2019, 12, 1), date(2020, 12, 1))"
   ]
  },
  {
   "cell_type": "code",
   "execution_count": 103,
   "id": "53a80fb4",
   "metadata": {},
   "outputs": [],
   "source": [
    "chart.add_line(data5)"
   ]
  },
  {
   "cell_type": "code",
   "execution_count": 104,
   "id": "8e1bc437",
   "metadata": {},
   "outputs": [
    {
     "data": {
      "image/svg+xml": [
       "<svg xmlns=\"http://www.w3.org/2000/svg\" width=\"800\" height=\"600\" version=\"1.1\"><g><rect x=\"0\" y=\"0\" width=\"800\" height=\"600\" fill=\"#f9f9f9\"/><g transform=\"translate(40 40)\"><g transform=\"translate(16 0)\"><text x=\"0\" y=\"0\" fill=\"#333\" font-family=\"Monaco\" font-size=\"16\">Temporal chart</text></g><g transform=\"translate(0 20)\"><g transform=\"translate(16 0)\"><g class=\"axis bottom\"><g class=\"tick\"><line x1=\"0.0\" y1=\"0\" x2=\"0.0\" y2=\"482.0\" stroke=\"#eee\" stroke-width=\"1\"/><text x=\"0.0\" y=\"486.0\" dy=\"1em\" fill=\"#9c9c9c\" text-anchor=\"middle\" font-family=\"Monaco\">2020-01</text></g><g class=\"tick\"><line x1=\"232.7431693989071\" y1=\"0\" x2=\"232.7431693989071\" y2=\"482.0\" stroke=\"#eee\" stroke-width=\"1\"/><text x=\"232.7431693989071\" y=\"486.0\" dy=\"1em\" fill=\"#9c9c9c\" text-anchor=\"middle\" font-family=\"Monaco\">2020-05</text></g><g class=\"tick\"><line x1=\"469.3333333333333\" y1=\"0\" x2=\"469.3333333333333\" y2=\"482.0\" stroke=\"#eee\" stroke-width=\"1\"/><text x=\"469.3333333333333\" y=\"486.0\" dy=\"1em\" fill=\"#9c9c9c\" text-anchor=\"middle\" font-family=\"Monaco\">2020-09</text></g><g class=\"tick\"><line x1=\"704.0\" y1=\"0\" x2=\"704.0\" y2=\"482.0\" stroke=\"#eee\" stroke-width=\"1\"/><text x=\"704.0\" y=\"486.0\" dy=\"1em\" fill=\"#9c9c9c\" text-anchor=\"middle\" font-family=\"Monaco\">2021-01</text></g></g><g class=\"axis left\"><g class=\"tick\"><line x1=\"-4\" y1=\"478\" x2=\"704.0\" y2=\"478\" stroke=\"#eee\" stroke-width=\"1\"/><text x=\"-8\" y=\"478\" dy=\"0.32em\" fill=\"#9c9c9c\" text-anchor=\"end\" font-family=\"Monaco\">1</text></g><g class=\"tick\"><line x1=\"-4\" y1=\"382.4\" x2=\"704.0\" y2=\"382.4\" stroke=\"#eee\" stroke-width=\"1\"/><text x=\"-8\" y=\"382.4\" dy=\"0.32em\" fill=\"#9c9c9c\" text-anchor=\"end\" font-family=\"Monaco\">2</text></g><g class=\"tick\"><line x1=\"-4\" y1=\"286.8\" x2=\"704.0\" y2=\"286.8\" stroke=\"#eee\" stroke-width=\"1\"/><text x=\"-8\" y=\"286.8\" dy=\"0.32em\" fill=\"#9c9c9c\" text-anchor=\"end\" font-family=\"Monaco\">3</text></g><g class=\"tick\"><line x1=\"-4\" y1=\"191.2\" x2=\"704.0\" y2=\"191.2\" stroke=\"#eee\" stroke-width=\"1\"/><text x=\"-8\" y=\"191.2\" dy=\"0.32em\" fill=\"#9c9c9c\" text-anchor=\"end\" font-family=\"Monaco\">4</text></g><g class=\"tick\"><line x1=\"-4\" y1=\"95.6\" x2=\"704.0\" y2=\"95.6\" stroke=\"#eee\" stroke-width=\"1\"/><text x=\"-8\" y=\"95.6\" dy=\"0.32em\" fill=\"#9c9c9c\" text-anchor=\"end\" font-family=\"Monaco\">5</text></g><g class=\"tick\"><line x1=\"-4\" y1=\"0\" x2=\"704.0\" y2=\"0\" stroke=\"#eee\" stroke-width=\"1\"/><text x=\"-8\" y=\"0\" dy=\"0.32em\" fill=\"#9c9c9c\" text-anchor=\"end\" font-family=\"Monaco\">6</text></g></g><g><g class=\"series lines\"><path stroke=\"#e41a1c\" fill=\"none\" stroke-width=\"2\" d=\"M 0.0 191.2 L 115.40983606557376 0 L 292.3715846994536 382.4 L 469.3333333333333 478\"/></g></g></g></g></g></g></svg>"
      ],
      "text/plain": [
       "<IPython.core.display.SVG object>"
      ]
     },
     "execution_count": 104,
     "metadata": {},
     "output_type": "execute_result"
    }
   ],
   "source": [
    "chart.to_svg()"
   ]
  },
  {
   "cell_type": "markdown",
   "id": "adf634a0",
   "metadata": {},
   "source": [
    "#### Manually set ticks"
   ]
  },
  {
   "cell_type": "code",
   "execution_count": 105,
   "id": "09a2740d",
   "metadata": {},
   "outputs": [],
   "source": [
    "chart = leather.Chart('Ticks Demo')"
   ]
  },
  {
   "cell_type": "code",
   "execution_count": 106,
   "id": "252d500f",
   "metadata": {},
   "outputs": [],
   "source": [
    "chart.add_x_scale(1, 8)\n",
    "chart.add_x_axis(ticks=[1, 2, 3, 4, 5, 6, 7, 8])\n",
    "chart.add_y_scale(1, 7)\n",
    "chart.add_y_axis(ticks=[1, 2, 3, 4, 5, 6, 7])"
   ]
  },
  {
   "cell_type": "code",
   "execution_count": 107,
   "id": "f7b5735a",
   "metadata": {},
   "outputs": [],
   "source": [
    "chart.add_line(data1)"
   ]
  },
  {
   "cell_type": "code",
   "execution_count": 108,
   "id": "bd6253da",
   "metadata": {},
   "outputs": [
    {
     "data": {
      "image/svg+xml": [
       "<svg xmlns=\"http://www.w3.org/2000/svg\" width=\"800\" height=\"600\" version=\"1.1\"><g><rect x=\"0\" y=\"0\" width=\"800\" height=\"600\" fill=\"#f9f9f9\"/><g transform=\"translate(40 40)\"><g transform=\"translate(16 0)\"><text x=\"0\" y=\"0\" fill=\"#333\" font-family=\"Monaco\" font-size=\"16\">Ticks Demo</text></g><g transform=\"translate(0 20)\"><g transform=\"translate(16 0)\"><g class=\"axis bottom\"><g class=\"tick\"><line x1=\"88.000\" y1=\"0\" x2=\"88.000\" y2=\"482.0\" stroke=\"#eee\" stroke-width=\"1\"/><text x=\"88.000\" y=\"486.0\" dy=\"1em\" fill=\"#9c9c9c\" text-anchor=\"middle\" font-family=\"Monaco\">1</text></g><g class=\"tick\"><line x1=\"176.00\" y1=\"0\" x2=\"176.00\" y2=\"482.0\" stroke=\"#eee\" stroke-width=\"1\"/><text x=\"176.00\" y=\"486.0\" dy=\"1em\" fill=\"#9c9c9c\" text-anchor=\"middle\" font-family=\"Monaco\">2</text></g><g class=\"tick\"><line x1=\"264.000\" y1=\"0\" x2=\"264.000\" y2=\"482.0\" stroke=\"#eee\" stroke-width=\"1\"/><text x=\"264.000\" y=\"486.0\" dy=\"1em\" fill=\"#9c9c9c\" text-anchor=\"middle\" font-family=\"Monaco\">3</text></g><g class=\"tick\"><line x1=\"352.0\" y1=\"0\" x2=\"352.0\" y2=\"482.0\" stroke=\"#eee\" stroke-width=\"1\"/><text x=\"352.0\" y=\"486.0\" dy=\"1em\" fill=\"#9c9c9c\" text-anchor=\"middle\" font-family=\"Monaco\">4</text></g><g class=\"tick\"><line x1=\"440.000\" y1=\"0\" x2=\"440.000\" y2=\"482.0\" stroke=\"#eee\" stroke-width=\"1\"/><text x=\"440.000\" y=\"486.0\" dy=\"1em\" fill=\"#9c9c9c\" text-anchor=\"middle\" font-family=\"Monaco\">5</text></g><g class=\"tick\"><line x1=\"528.00\" y1=\"0\" x2=\"528.00\" y2=\"482.0\" stroke=\"#eee\" stroke-width=\"1\"/><text x=\"528.00\" y=\"486.0\" dy=\"1em\" fill=\"#9c9c9c\" text-anchor=\"middle\" font-family=\"Monaco\">6</text></g><g class=\"tick\"><line x1=\"616.000\" y1=\"0\" x2=\"616.000\" y2=\"482.0\" stroke=\"#eee\" stroke-width=\"1\"/><text x=\"616.000\" y=\"486.0\" dy=\"1em\" fill=\"#9c9c9c\" text-anchor=\"middle\" font-family=\"Monaco\">7</text></g><g class=\"tick\"><line x1=\"704\" y1=\"0\" x2=\"704\" y2=\"482.0\" stroke=\"#eee\" stroke-width=\"1\"/><text x=\"704\" y=\"486.0\" dy=\"1em\" fill=\"#9c9c9c\" text-anchor=\"middle\" font-family=\"Monaco\">8</text></g></g><g class=\"axis left\"><g class=\"tick\"><line x1=\"-4\" y1=\"414.2666666666666666666666667\" x2=\"704.0\" y2=\"414.2666666666666666666666667\" stroke=\"#eee\" stroke-width=\"1\"/><text x=\"-8\" y=\"414.2666666666666666666666667\" dy=\"0.32em\" fill=\"#9c9c9c\" text-anchor=\"end\" font-family=\"Monaco\">1</text></g><g class=\"tick\"><line x1=\"-4\" y1=\"350.5333333333333333333333333\" x2=\"704.0\" y2=\"350.5333333333333333333333333\" stroke=\"#eee\" stroke-width=\"1\"/><text x=\"-8\" y=\"350.5333333333333333333333333\" dy=\"0.32em\" fill=\"#9c9c9c\" text-anchor=\"end\" font-family=\"Monaco\">2</text></g><g class=\"tick\"><line x1=\"-4\" y1=\"286.8\" x2=\"704.0\" y2=\"286.8\" stroke=\"#eee\" stroke-width=\"1\"/><text x=\"-8\" y=\"286.8\" dy=\"0.32em\" fill=\"#9c9c9c\" text-anchor=\"end\" font-family=\"Monaco\">3</text></g><g class=\"tick\"><line x1=\"-4\" y1=\"223.0666666666666666666666667\" x2=\"704.0\" y2=\"223.0666666666666666666666667\" stroke=\"#eee\" stroke-width=\"1\"/><text x=\"-8\" y=\"223.0666666666666666666666667\" dy=\"0.32em\" fill=\"#9c9c9c\" text-anchor=\"end\" font-family=\"Monaco\">4</text></g><g class=\"tick\"><line x1=\"-4\" y1=\"159.3333333333333333333333333\" x2=\"704.0\" y2=\"159.3333333333333333333333333\" stroke=\"#eee\" stroke-width=\"1\"/><text x=\"-8\" y=\"159.3333333333333333333333333\" dy=\"0.32em\" fill=\"#9c9c9c\" text-anchor=\"end\" font-family=\"Monaco\">5</text></g><g class=\"tick\"><line x1=\"-4\" y1=\"95.6\" x2=\"704.0\" y2=\"95.6\" stroke=\"#eee\" stroke-width=\"1\"/><text x=\"-8\" y=\"95.6\" dy=\"0.32em\" fill=\"#9c9c9c\" text-anchor=\"end\" font-family=\"Monaco\">6</text></g><g class=\"tick\"><line x1=\"-4\" y1=\"31.8666666666666666666666667\" x2=\"704.0\" y2=\"31.8666666666666666666666667\" stroke=\"#eee\" stroke-width=\"1\"/><text x=\"-8\" y=\"31.8666666666666666666666667\" dy=\"0.32em\" fill=\"#9c9c9c\" text-anchor=\"end\" font-family=\"Monaco\">7</text></g></g><g><g class=\"series lines\"><path stroke=\"#e41a1c\" fill=\"none\" stroke-width=\"2\" d=\"M 132.0000 350.5333333333333333333333333 L 176.00 286.8 L 396.0000 95.6 L 660.0000 223.0666666666666666666666667\"/></g></g></g></g></g></g></svg>"
      ],
      "text/plain": [
       "<IPython.core.display.SVG object>"
      ]
     },
     "execution_count": 108,
     "metadata": {},
     "output_type": "execute_result"
    }
   ],
   "source": [
    "chart.to_svg()"
   ]
  }
 ],
 "metadata": {
  "kernelspec": {
   "display_name": "Python 3",
   "language": "python",
   "name": "python3"
  },
  "language_info": {
   "codemirror_mode": {
    "name": "ipython",
    "version": 3
   },
   "file_extension": ".py",
   "mimetype": "text/x-python",
   "name": "python",
   "nbconvert_exporter": "python",
   "pygments_lexer": "ipython3",
   "version": "3.8.0"
  }
 },
 "nbformat": 4,
 "nbformat_minor": 5
}
