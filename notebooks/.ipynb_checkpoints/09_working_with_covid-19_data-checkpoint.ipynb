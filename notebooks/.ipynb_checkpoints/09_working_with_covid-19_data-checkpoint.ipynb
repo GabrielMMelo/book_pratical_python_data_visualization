{
 "cells": [
  {
   "cell_type": "code",
   "execution_count": 1,
   "id": "dbd4f5cb",
   "metadata": {},
   "outputs": [],
   "source": [
    "#%pip install covid"
   ]
  },
  {
   "cell_type": "code",
   "execution_count": 13,
   "id": "90f6110a",
   "metadata": {},
   "outputs": [],
   "source": [
    "from covid import Covid\n",
    "from matplotlib import pyplot as plt\n",
    "import pandas as pd\n",
    "\n",
    "%matplotlib inline"
   ]
  },
  {
   "cell_type": "code",
   "execution_count": 5,
   "id": "f20e4d74",
   "metadata": {},
   "outputs": [],
   "source": [
    "covid = Covid(source=\"worldometers\")"
   ]
  },
  {
   "cell_type": "markdown",
   "id": "7650dc57",
   "metadata": {},
   "source": [
    "### Get data"
   ]
  },
  {
   "cell_type": "code",
   "execution_count": 7,
   "id": "99c6dbae",
   "metadata": {},
   "outputs": [],
   "source": [
    "df = pd.DataFrame(covid.get_data())"
   ]
  },
  {
   "cell_type": "code",
   "execution_count": 8,
   "id": "42c1b23a",
   "metadata": {},
   "outputs": [
    {
     "name": "stdout",
     "output_type": "stream",
     "text": [
      "<class 'pandas.core.frame.DataFrame'>\n",
      "RangeIndex: 230 entries, 0 to 229\n",
      "Data columns (total 13 columns):\n",
      " #   Column                    Non-Null Count  Dtype \n",
      "---  ------                    --------------  ----- \n",
      " 0   country                   230 non-null    object\n",
      " 1   confirmed                 230 non-null    int64 \n",
      " 2   new_cases                 230 non-null    int64 \n",
      " 3   deaths                    230 non-null    int64 \n",
      " 4   recovered                 230 non-null    int64 \n",
      " 5   active                    230 non-null    int64 \n",
      " 6   critical                  230 non-null    int64 \n",
      " 7   new_deaths                230 non-null    int64 \n",
      " 8   total_tests               230 non-null    int64 \n",
      " 9   total_tests_per_million   230 non-null    object\n",
      " 10  total_cases_per_million   230 non-null    object\n",
      " 11  total_deaths_per_million  230 non-null    object\n",
      " 12  population                230 non-null    object\n",
      "dtypes: int64(8), object(5)\n",
      "memory usage: 23.5+ KB\n"
     ]
    }
   ],
   "source": [
    "df.info()"
   ]
  },
  {
   "cell_type": "markdown",
   "id": "5c4ced78",
   "metadata": {},
   "source": [
    "### Prepare data"
   ]
  },
  {
   "cell_type": "code",
   "execution_count": 9,
   "id": "05af622f",
   "metadata": {},
   "outputs": [],
   "source": [
    "sorted = df.sort_values(by=['confirmed'], ascending=False)"
   ]
  },
  {
   "cell_type": "code",
   "execution_count": 11,
   "id": "51626b75",
   "metadata": {},
   "outputs": [],
   "source": [
    "excluded = sorted[~sorted.country.isin(['Europe', 'South America', 'Asia', 'World', 'North America', 'Africa'])]"
   ]
  },
  {
   "cell_type": "code",
   "execution_count": 12,
   "id": "3cd5916b",
   "metadata": {},
   "outputs": [
    {
     "name": "stdout",
     "output_type": "stream",
     "text": [
      "    country  confirmed  new_cases  deaths  recovered   active  critical  \\\n",
      "8       USA   33179141      29401  591056   25823730  6764355      9469   \n",
      "9     India   19919715     370059  218945   16281738  3419032      8944   \n",
      "10   Brazil   14754910      28935  407639   13242665  1104606      8318   \n",
      "11   France    5652247       9888  104819    4637053   910375      5585   \n",
      "12   Turkey    4875388      25980   40844    4480381   354163      3532   \n",
      "13   Russia    4823255       8697  110862    4443922   268471      2300   \n",
      "14       UK    4420201       1671  127538    4221582    71081       185   \n",
      "15    Italy    4044762       9148  121177    3492679   430906      2524   \n",
      "16    Spain    3524077          0   78216    3206273   239588      2308   \n",
      "17  Germany    3425598      13225   83826    3024600   317172      5049   \n",
      "\n",
      "    new_deaths  total_tests total_tests_per_million total_cases_per_million  \\\n",
      "8          306    448944718                       0                   99752   \n",
      "9         3422    290142339                       0                   14318   \n",
      "10        1074     43818216                       0                   69008   \n",
      "11         113     76694164                       0                   86434   \n",
      "12         340     47744338                       0                   57295   \n",
      "13         342    129800000                       0                   33039   \n",
      "14          14    156302824                       0                   64829   \n",
      "15         144     59114826                       0                   66980   \n",
      "16           0     46199597                       0                   75349   \n",
      "17         124     55490413                       0                   40778   \n",
      "\n",
      "   total_deaths_per_million  population  \n",
      "8                      1777   332616743  \n",
      "9                       157  1391271798  \n",
      "10                     1906   213815388  \n",
      "11                     1603    65393762  \n",
      "12                      480    85092490  \n",
      "13                      759   145986588  \n",
      "14                     1871    68182618  \n",
      "15                     2007    60387724  \n",
      "16                     1672    46769864  \n",
      "17                      998    84006917  \n"
     ]
    }
   ],
   "source": [
    "top10 = excluded.head(10)\n",
    "print(top10)"
   ]
  },
  {
   "cell_type": "code",
   "execution_count": 25,
   "id": "aed85b95",
   "metadata": {},
   "outputs": [],
   "source": [
    "x = top10.country\n",
    "y1 = top10.confirmed\n",
    "y2 = top10.active\n",
    "y3 = top10.deaths\n",
    "y4 = top10.recovered"
   ]
  },
  {
   "cell_type": "markdown",
   "id": "3972d483",
   "metadata": {},
   "source": [
    "#### Line chart"
   ]
  },
  {
   "cell_type": "code",
   "execution_count": 44,
   "id": "00dbda70",
   "metadata": {},
   "outputs": [
    {
     "data": {
      "image/png": "[encoded data removed]",
      "text/plain": [
       "<Figure size 432x288 with 1 Axes>"
      ]
     },
     "metadata": {
      "needs_background": "light"
     },
     "output_type": "display_data"
    }
   ],
   "source": [
    "plt.plot(x, y1, 'o--')\n",
    "ax = plt.gca()  # get the current Axes instance\n",
    "ax.ticklabel_format(useOffset=False, style='plain', axis='y')  # remove offset for y axis\n",
    "plt.xticks(rotation=90)  # rotate x axis\n",
    "plt.show()"
   ]
  },
  {
   "cell_type": "markdown",
   "id": "47607cfb",
   "metadata": {},
   "source": [
    "#### Bar chart"
   ]
  },
  {
   "cell_type": "code",
   "execution_count": 56,
   "id": "719dd216",
   "metadata": {},
   "outputs": [
    {
     "data": {
      "image/png": "[encoded data removed]",
      "text/plain": [
       "<Figure size 432x288 with 1 Axes>"
      ]
     },
     "metadata": {
      "needs_background": "light"
     },
     "output_type": "display_data"
    }
   ],
   "source": [
    "plt.bar(x, y1)\n",
    "ax = plt.gca()  # get the current Axes instance\n",
    "ax.ticklabel_format(useOffset=False, style='plain', axis='y')  # remove offset for y axis\n",
    "plt.xticks(rotation=45)\n",
    "plt.show()"
   ]
  },
  {
   "cell_type": "markdown",
   "id": "0022c872",
   "metadata": {},
   "source": [
    "#### Multiple line charts"
   ]
  },
  {
   "cell_type": "code",
   "execution_count": null,
   "id": "5e9664ef",
   "metadata": {},
   "outputs": [],
   "source": [
    "plt.plot(x, y1, 'o-')\n",
    "plt.plot(x, y2, 'd-')\n",
    "plt.plot(x, y3, '.-')\n",
    "plt.plot(x, y4, 's-')\n",
    "plt.legend(['confirmed', 'actives', 'deaths', 'recovered'], loc='upper right')\n"
   ]
  }
 ],
 "metadata": {
  "kernelspec": {
   "display_name": "Python 3",
   "language": "python",
   "name": "python3"
  },
  "language_info": {
   "codemirror_mode": {
    "name": "ipython",
    "version": 3
   },
   "file_extension": ".py",
   "mimetype": "text/x-python",
   "name": "python",
   "nbconvert_exporter": "python",
   "pygments_lexer": "ipython3",
   "version": "3.8.0"
  }
 },
 "nbformat": 4,
 "nbformat_minor": 5
}
